{
  "cells": [
    {
      "cell_type": "markdown",
      "metadata": {
        "id": "view-in-github",
        "colab_type": "text"
      },
      "source": [
        "<a href=\"https://colab.research.google.com/github/nawinaswin/ML1/blob/main/OpenAI_CartPole_Test.ipynb\" target=\"_parent\"><img src=\"https://colab.research.google.com/assets/colab-badge.svg\" alt=\"Open In Colab\"/></a>"
      ]
    },
    {
      "cell_type": "code",
      "execution_count": null,
      "metadata": {
        "id": "LS-dUntBZv2c"
      },
      "outputs": [],
      "source": [
        "%%bash\n",
        " \n",
        "# install required system dependencies\n",
        "apt-get install -y xvfb x11-utils"
      ]
    },
    {
      "cell_type": "code",
      "execution_count": null,
      "metadata": {
        "id": "xXOKRlI9E_8k"
      },
      "outputs": [],
      "source": [
        "# install required python dependencies (might need to install additional gym extras depending)\n",
        "pip install gym[box2d]==0.17.* pyvirtualdisplay==0.2.* PyOpenGL==3.1.* PyOpenGL-accelerate==3.1.*"
      ]
    },
    {
      "cell_type": "code",
      "execution_count": null,
      "metadata": {
        "colab": {
          "base_uri": "https://localhost:8080/"
        },
        "id": "zstMPf-CC6uX",
        "outputId": "c9f54709-89de-4dbc-9829-5b0190d4e5d1"
      },
      "outputs": [
        {
          "output_type": "stream",
          "name": "stdout",
          "text": [
            "Looking in indexes: https://pypi.org/simple, https://us-python.pkg.dev/colab-wheels/public/simple/\n",
            "Requirement already satisfied: gym[classic_control] in /usr/local/lib/python3.8/dist-packages (0.25.2)\n",
            "Requirement already satisfied: numpy>=1.18.0 in /usr/local/lib/python3.8/dist-packages (from gym[classic_control]) (1.21.6)\n",
            "Requirement already satisfied: importlib-metadata>=4.8.0 in /usr/local/lib/python3.8/dist-packages (from gym[classic_control]) (5.1.0)\n",
            "Requirement already satisfied: cloudpickle>=1.2.0 in /usr/local/lib/python3.8/dist-packages (from gym[classic_control]) (1.5.0)\n",
            "Requirement already satisfied: gym-notices>=0.0.4 in /usr/local/lib/python3.8/dist-packages (from gym[classic_control]) (0.0.8)\n",
            "Requirement already satisfied: pygame==2.1.0 in /usr/local/lib/python3.8/dist-packages (from gym[classic_control]) (2.1.0)\n",
            "Requirement already satisfied: zipp>=0.5 in /usr/local/lib/python3.8/dist-packages (from importlib-metadata>=4.8.0->gym[classic_control]) (3.11.0)\n"
          ]
        }
      ],
      "source": [
        "pip install gym[classic_control]"
      ]
    },
    {
      "cell_type": "code",
      "execution_count": null,
      "metadata": {
        "id": "O3JvHXuy45Nk"
      },
      "outputs": [],
      "source": [
        "import tensorflow as tf\n",
        "import torch\n",
        "import torch as pt\n",
        "import gym as gym\n",
        "import random as rd\n",
        "import math as math\n",
        "import numpy as np\n",
        "import matplotlib.pyplot as plt\n",
        "import torch.nn.functional as F\n",
        "import torchvision.transforms as T\n",
        "import torchvision as tv\n",
        "from collections import namedtuple\n",
        "from itertools import count\n",
        "from PIL import Image\n",
        "from IPython import display"
      ]
    },
    {
      "cell_type": "code",
      "execution_count": null,
      "metadata": {
        "id": "2rX4Z4Jp_I0T"
      },
      "outputs": [],
      "source": [
        "import pyvirtualdisplay"
      ]
    },
    {
      "cell_type": "code",
      "execution_count": null,
      "metadata": {
        "id": "p-lGqwml3Jtt"
      },
      "outputs": [],
      "source": [
        "_display = pyvirtualdisplay.Display(visible=0, size=(1400, 900)) \n",
        "_ = _display.start()"
      ]
    },
    {
      "cell_type": "code",
      "execution_count": null,
      "metadata": {
        "colab": {
          "base_uri": "https://localhost:8080/"
        },
        "id": "hOzbw16EryGr",
        "outputId": "6ac98848-6c84-43a1-fb95-fd85aa627641"
      },
      "outputs": [
        {
          "name": "stdout",
          "output_type": "stream",
          "text": [
            "Tesla T4\n",
            "\n"
          ]
        }
      ],
      "source": [
        "print(torch.cuda.get_device_name())\n",
        "!echo $DISPLAY"
      ]
    },
    {
      "cell_type": "code",
      "execution_count": null,
      "metadata": {
        "id": "dKMxJ6yi41r4"
      },
      "outputs": [],
      "source": [
        "class DQN(pt.nn.Module):\n",
        "    def __init__(self, img_height, img_width):\n",
        "        super().__init__()\n",
        "\n",
        "        self.fc1 = pt.nn.Linear(in_features=img_height * img_width * 3, out_features=24)\n",
        "        self.fc2 = pt.nn.Linear(in_features=24, out_features=32)\n",
        "        self.fc3 = pt.nn.Linear(in_features=32, out_features=32)\n",
        "        self.out = pt.nn.Linear(in_features=32, out_features=2)\n",
        "\n",
        "    def forward(self, t):\n",
        "        t = t.flatten(start_dim=1)\n",
        "        t = F.relu(self.fc1(t))\n",
        "        t = F.relu(self.fc2(t))\n",
        "        t = F.relu(self.fc3(t))\n",
        "        t = self.out(t)\n",
        "        return t\n",
        "\n",
        "\n",
        "Experience = namedtuple(\n",
        "    'Experience',\n",
        "    ('state', 'action', 'next_state', 'reward')\n",
        ")\n",
        "\n",
        "\n",
        "class ReplayMemory():\n",
        "    def __init__(self, capacity):\n",
        "        self.capacity = capacity\n",
        "        self.push_count = 0\n",
        "        self.memory = []\n",
        "\n",
        "    def push(self, experience):\n",
        "        if len(self.memory) < self.capacity:\n",
        "            self.memory.append(experience)\n",
        "        else:\n",
        "            self.memory[self.push_count % self.capacity] = experience\n",
        "        self.push_count += 1\n",
        "\n",
        "    def sample(self, batch_size):\n",
        "        return rd.sample(self.memory, batch_size)\n",
        "\n",
        "    def can_provide_sample(self, batch_size):\n",
        "        return len(self.memory) >= batch_size\n",
        "\n",
        "\n",
        "class Epsilon:\n",
        "    def __init__(self, start, end, decay):\n",
        "        self.start = start\n",
        "        self.end = end\n",
        "        self.decay = decay\n",
        "\n",
        "    def get_exploration_rate(self, current_step):\n",
        "        return self.end + (self.start - self.end) * math.exp(-1 * current_step * self.decay)\n",
        "\n",
        "\n",
        "# strategy = Epsilon()\n",
        "\n",
        "\n",
        "class Agent():\n",
        "    def __init__(self, strategy, number_of_actions, device):\n",
        "        self.current_step = 0\n",
        "        self.strategy = strategy\n",
        "        self.number_of_actions = number_of_actions\n",
        "        self.device = device\n",
        "\n",
        "    def select_action(self, state, policy_net):\n",
        "        rate = strategy.get_exploration_rate(self.current_step)\n",
        "        self.current_step += 1\n",
        "\n",
        "        if rate > rd.random():\n",
        "            action = rd.randrange(self.number_of_actions)  # explore\n",
        "            #print(torch.tensor([action]).to(device))\n",
        "            return torch.tensor([action]).to(device)\n",
        "        else:\n",
        "            with torch.no_grad():\n",
        "                #print(policy_net(state).argmax(dim=1).to(device))\n",
        "                return policy_net(state).argmax(dim=1).to(device)  # exploit\n",
        "\n",
        "\n",
        "class CartPoleEnvManager():\n",
        "    def __init__(self, device):\n",
        "        self.device = device\n",
        "        self.env = gym.make('CartPole-v0').unwrapped\n",
        "        self.env.reset()\n",
        "        self.current_screen = None\n",
        "        self.done = False\n",
        "\n",
        "    def reset(self):\n",
        "        self.env.reset()\n",
        "        self.current_screen = None\n",
        "\n",
        "    def close(self):\n",
        "        self.env.close()\n",
        "\n",
        "    def render(self, mode='human'):\n",
        "        return self.env.render(mode)\n",
        "\n",
        "    def num_actions_available(self):\n",
        "        return self.env.action_space.n\n",
        "\n",
        "    def take_action(self, action):\n",
        "        _, reward, self.done, blank1, blank2 = self.env.step(action.item())\n",
        "        return torch.tensor([reward], device=self.device)\n",
        "\n",
        "    def just_starting(self):\n",
        "        return self.current_screen is None\n",
        "\n",
        "    def get_processed_screen(self):\n",
        "        screen = self.render('rgb_array').transpose((2, 0, 1))\n",
        "        screen = self.crop_screen(screen)\n",
        "        return self.transform_screen_data(screen)\n",
        "\n",
        "    def get_state(self):\n",
        "        if self.just_starting() or self.done:\n",
        "            self.current_screen = self.get_processed_screen()\n",
        "            black_screen = torch.zeros_like(self.current_screen)\n",
        "            return black_screen\n",
        "        else:\n",
        "            s1 = self.current_screen\n",
        "            s2 = self.get_processed_screen()\n",
        "            self.current_screen = s2\n",
        "            return s2 - s1\n",
        "\n",
        "    def get_screen_height(self):\n",
        "        screen = self.get_processed_screen()\n",
        "        return screen.shape[2]\n",
        "\n",
        "    def get_screen_width(self):\n",
        "        screen = self.get_processed_screen()\n",
        "        return screen.shape[3]\n",
        "\n",
        "    def crop_screen(self, screen):\n",
        "        screen_height = screen.shape[1]\n",
        "        top = int(screen_height * 0.4)\n",
        "        bottom = int(screen_height * 0.8)\n",
        "        screen = screen[:, top:bottom, :]\n",
        "        return screen\n",
        "\n",
        "    def transform_screen_data(self, screen):\n",
        "        screen = np.ascontiguousarray(screen, dtype=np.float32) / 255\n",
        "        screen = torch.from_numpy(screen)\n",
        "\n",
        "        resize = T.Compose([T.ToPILImage(), T.Resize((40, 90)), T.ToTensor()])\n",
        "\n",
        "        return resize(screen).unsqueeze(0).to(self.device)\n",
        "class QValues():\n",
        "    device = torch.device(\"cuda\" if torch.cuda.is_available() else \"cpu\")\n",
        "\n",
        "    @staticmethod\n",
        "    def get_current(policy_net, states, actions):\n",
        "        return policy_net(states).gather(dim=1, index=actions.unsqueeze(-1))\n",
        "\n",
        "    @staticmethod\n",
        "    def get_next(target_net, next_states):\n",
        "        final_state_locations = next_states.flatten(start_dim=1).max(dim=1)[0].eq(0).type(torch.bool)\n",
        "        non_final_state_locations = (final_state_locations == False)\n",
        "        non_final_states = next_states[non_final_state_locations]\n",
        "        batch_size = next_states.shape[0]\n",
        "        values = torch.zeros(batch_size).to(QValues.device)\n",
        "        values[non_final_state_locations] = target_net(non_final_states).max(dim=1)[0].detach()\n",
        "        return values"
      ]
    },
    {
      "cell_type": "code",
      "execution_count": null,
      "metadata": {
        "id": "2-XKB8o3Wgpp"
      },
      "outputs": [],
      "source": [
        "def plot(values, moving_average_period):\n",
        "        plt.figure(2)\n",
        "        plt.clf()\n",
        "        plt.title(\"Training.....\")\n",
        "        plt.xlabel(\"Episodes\")\n",
        "        plt.ylabel(\"Duration\")\n",
        "        plt.plot(values)\n",
        "        ma = get_moving_average(values, moving_average_period)\n",
        "        plt.plot(ma)\n",
        "        plt.pause(0.001)\n",
        "        print(\"Episode:\", len(values),\", Moving Average:\", ma[-1] )\n",
        "        display.clear_output(wait=True)\n",
        "\n",
        "\n",
        "def get_moving_average(values, period):\n",
        "        values = torch.tensor(values, dtype=torch.float)\n",
        "        if len(values) >= period:\n",
        "            moving_average = values.unfold(dimension=0, size=period, step=1).mean(dim=1).flatten(start_dim=0)\n",
        "            moving_average = torch.cat((torch.zeros(period - 1), moving_average))\n",
        "            return moving_average.numpy()\n",
        "        else:\n",
        "            moving_average = torch.zeros(len(values))\n",
        "            return moving_average.numpy()\n",
        "\n",
        "def extract_tensors():\n",
        "        batch = Experience(*zip(*expriences))\n",
        "        t1 = torch.cat(batch.state)\n",
        "        t2 = torch.cat(batch.action)\n",
        "        t3 = torch.cat(batch.reward)\n",
        "        t4 = torch.cat(batch.next_state)\n",
        "        return t1, t2, t3, t4\n",
        "\n",
        "def plot_screen_dynamic(screen):\n",
        "  plt.imshow(screen.squeeze(0).permute(1, 2, 0).cpu(), interpolation='none')\n",
        "  plt.title('Non starting state example')\n",
        "  plt.show()\n",
        "  display.clear_output(wait=True)"
      ]
    },
    {
      "cell_type": "code",
      "execution_count": null,
      "metadata": {
        "id": "U8T5NP-v9DSs"
      },
      "outputs": [],
      "source": [
        "batch_size = 256\n",
        "gamma = 0.999\n",
        "eps_start = 0.9\n",
        "eps_end = 0.05\n",
        "eps_decay = 200\n",
        "target_update = 10\n",
        "memory_size = 10000\n",
        "lr = 0.001\n",
        "num_episodes = 250"
      ]
    },
    {
      "cell_type": "code",
      "execution_count": null,
      "metadata": {
        "colab": {
          "base_uri": "https://localhost:8080/",
          "height": 386
        },
        "id": "n9IJ-qRDApQI",
        "outputId": "974425b6-8230-4787-a951-6ccf082ee11b"
      },
      "outputs": [
        {
          "output_type": "stream",
          "name": "stderr",
          "text": [
            "/usr/local/lib/python3.8/dist-packages/gym/core.py:43: DeprecationWarning: \u001b[33mWARN: The argument mode in render method is deprecated; use render_mode during environment initialization instead.\n",
            "See here for more information: https://www.gymlibrary.ml/content/api/\u001b[0m\n",
            "  deprecation(\n"
          ]
        },
        {
          "output_type": "display_data",
          "data": {
            "text/plain": [
              "<Figure size 432x288 with 1 Axes>"
            ],
            "image/png": "[encoded data removed]"
          },
          "metadata": {
            "needs_background": "light"
          }
        },
        {
          "output_type": "stream",
          "name": "stdout",
          "text": [
            "Episode: 250 , Moving Average: 10.28\n"
          ]
        }
      ],
      "source": [
        "device = torch.device(\"cuda\" if torch.cuda.is_available() else \"cpu\")\n",
        "env = CartPoleEnvManager(device)\n",
        "strategy = Epsilon(eps_start, eps_end, eps_decay)\n",
        "agent = Agent(strategy, env.num_actions_available(), device)\n",
        "memory = ReplayMemory(memory_size)\n",
        "\n",
        "policy_net = DQN(env.get_screen_height(), env.get_screen_width()).to(device)\n",
        "target_net = DQN(env.get_screen_height(), env.get_screen_width()).to(device)\n",
        "target_net.load_state_dict(policy_net.state_dict())\n",
        "target_net.eval()\n",
        "optimizer = torch.optim.Adam(params=policy_net.parameters(), lr=lr)\n",
        "\n",
        "episode_durations = []\n",
        "for episode in range(num_episodes):\n",
        "    env.reset()\n",
        "    state = env.get_state()\n",
        "    #plot_screen_dynamic(state)\n",
        "    for timestep in count():\n",
        "        action = agent.select_action(state, policy_net)\n",
        "        reward = env.take_action(action)\n",
        "        next_state = env.get_state()\n",
        "        memory.push(Experience(state, action, next_state, reward))\n",
        "        state = next_state\n",
        "\n",
        "        if memory.can_provide_sample(batch_size):\n",
        "            expriences = memory.sample(batch_size)\n",
        "            states, actions, rewards, next_states = extract_tensors()\n",
        "\n",
        "            current_q_values = QValues.get_current(policy_net, states, actions)\n",
        "            next_q_values = QValues.get_next(target_net, next_states)\n",
        "            target_q_values = (next_q_values * gamma) + rewards\n",
        "\n",
        "            loss = F.mse_loss(current_q_values, target_q_values.unsqueeze(1))\n",
        "            optimizer.zero_grad()\n",
        "            loss.backward()\n",
        "            optimizer.step()\n",
        "\n",
        "        if env.done:\n",
        "            episode_durations.append(timestep)\n",
        "            plot(episode_durations, 100)\n",
        "            break\n",
        "\n",
        "    if episode % target_update == 0:\n",
        "        target_net.load_state_dict(policy_net.state_dict())\n",
        "\n",
        "env.close()\n"
      ]
    },
    {
      "cell_type": "code",
      "execution_count": null,
      "metadata": {
        "colab": {
          "base_uri": "https://localhost:8080/",
          "height": 231
        },
        "id": "XNk6e73Fhork",
        "outputId": "42e9eefa-1e63-41d9-eb34-fd74b6dbd391"
      },
      "outputs": [
        {
          "name": "stderr",
          "output_type": "stream",
          "text": [
            "WARNING:matplotlib.image:Clipping input data to the valid range for imshow with RGB data ([0..1] for floats or [0..255] for integers).\n"
          ]
        },
        {
          "data": {
            "image/png": "[encoded data removed]",
            "text/plain": [
              "<Figure size 432x288 with 1 Axes>"
            ]
          },
          "metadata": {},
          "output_type": "display_data"
        }
      ],
      "source": [
        "device = torch.device(\"cuda\" if torch.cuda.is_available() else \"cpu\")\n",
        "em = CartPoleEnvManager(device)\n",
        "em.reset()\n",
        "\n",
        "for i in range(4):\n",
        "    em.take_action(torch.tensor([1]))\n",
        "    screen = em.get_state()\n",
        "\n",
        "plt.figure()\n",
        "plt.imshow(screen.squeeze(0).permute(1, 2, 0).cpu(), interpolation='none')\n",
        "plt.title('Non starting state example')\n",
        "plt.show()"
      ]
    },
    {
      "cell_type": "code",
      "source": [],
      "metadata": {
        "id": "9Eq03GRHDXY4"
      },
      "execution_count": null,
      "outputs": []
    },
    {
      "cell_type": "code",
      "source": [
        "env = CartPoleEnvManager(device)\n",
        "env.num_actions_available()\n",
        "_, reward, done, x, y = env.env.step(action.item())\n",
        "env.take_action(action)"
      ],
      "metadata": {
        "id": "ps7nNXeVEXT_"
      },
      "execution_count": null,
      "outputs": []
    },
    {
      "cell_type": "code",
      "execution_count": null,
      "metadata": {
        "id": "kCYjq7lX5S7c"
      },
      "outputs": [],
      "source": [
        "def get_moving_average(values, period):\n",
        "  values = torch.tensor(values, dtype=torch.float)\n",
        "  if len(values) >= period:\n",
        "    moving_average = values.unfold(dimension=0, size=period, step=1).mean(dim=1).flatten(start_dim=0)\n",
        "    moving_average = torch.cat((torch.zeros(period-1), moving_average))\n",
        "    return moving_average.numpy()\n",
        "  else:\n",
        "    moving_average = torch.zeros(len(values))\n",
        "    return moving_average.numpy()"
      ]
    }
  ],
  "metadata": {
    "accelerator": "GPU",
    "colab": {
      "provenance": [],
      "toc_visible": true,
      "authorship_tag": "ABX9TyNSng058IhDcHyOwm+jgsjq",
      "include_colab_link": true
    },
    "kernelspec": {
      "display_name": "Python 3",
      "name": "python3"
    },
    "language_info": {
      "name": "python"
    }
  },
  "nbformat": 4,
  "nbformat_minor": 0
}
